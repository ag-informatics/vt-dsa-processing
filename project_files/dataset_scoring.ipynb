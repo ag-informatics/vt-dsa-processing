{
 "cells": [
  {
   "cell_type": "markdown",
   "metadata": {},
   "source": [
    "# Dataset Scoring\n",
    "This is the final version of the dataset scoring notebook. It uses functions found in the scoring.py file to produce a final parameter set and dataset score from the manually-reviewed scoring sheets."
   ]
  },
  {
   "cell_type": "code",
   "execution_count": 1,
   "metadata": {},
   "outputs": [],
   "source": [
    "# Import libraries\n",
    "import numpy as np\n",
    "import pandas as pd\n",
    "from scoring import load_scored_df, summarize_scores"
   ]
  },
  {
   "cell_type": "code",
   "execution_count": 2,
   "metadata": {},
   "outputs": [],
   "source": [
    "# Define models and subsets\n",
    "models = ['aquacrop', 'dssat', 'stics', 'rodekoning', 'rotomgro', 'genericdescriptive']\n",
    "subsets = ['', 'raw_data', 'raw_trials', 'raw_data_only', 'composite']"
   ]
  },
  {
   "cell_type": "code",
   "execution_count": 3,
   "metadata": {},
   "outputs": [
    {
     "name": "stdout",
     "output_type": "stream",
     "text": [
      "aquacrop  done\n",
      "aquacrop raw_data done\n",
      "aquacrop raw_trials done\n",
      "aquacrop raw_data_only done\n",
      "aquacrop composite done\n",
      "dssat  done\n",
      "dssat raw_data done\n",
      "dssat raw_trials done\n",
      "dssat raw_data_only done\n",
      "dssat composite done\n",
      "stics  done\n",
      "stics raw_data done\n",
      "stics raw_trials done\n",
      "stics raw_data_only done\n",
      "stics composite done\n",
      "rodekoning  done\n",
      "rodekoning raw_data done\n",
      "rodekoning raw_trials done\n",
      "rodekoning raw_data_only done\n",
      "rodekoning composite done\n",
      "rotomgro  done\n",
      "rotomgro raw_data done\n",
      "rotomgro raw_trials done\n",
      "rotomgro raw_data_only done\n",
      "rotomgro composite done\n",
      "genericdescriptive  done\n",
      "genericdescriptive raw_data done\n",
      "genericdescriptive raw_trials done\n",
      "genericdescriptive raw_data_only done\n",
      "genericdescriptive composite done\n"
     ]
    }
   ],
   "source": [
    "# For each model and subset combination, load the data and conduct the scoring\n",
    "for model in models:\n",
    "    for subset in subsets:\n",
    "        df = load_scored_df(model, subset)\n",
    "        summarize_scores(df, model, subset)\n",
    "        print(f'{model} {subset} done')"
   ]
  }
 ],
 "metadata": {
  "kernelspec": {
   "display_name": "pcp_env",
   "language": "python",
   "name": "python3"
  },
  "language_info": {
   "codemirror_mode": {
    "name": "ipython",
    "version": 3
   },
   "file_extension": ".py",
   "mimetype": "text/x-python",
   "name": "python",
   "nbconvert_exporter": "python",
   "pygments_lexer": "ipython3",
   "version": "3.9.18"
  }
 },
 "nbformat": 4,
 "nbformat_minor": 2
}
