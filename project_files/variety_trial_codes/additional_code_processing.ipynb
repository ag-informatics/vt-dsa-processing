{
 "cells": [
  {
   "cell_type": "markdown",
   "metadata": {},
   "source": [
    "# Additional Code Processing\n",
    "This notebook contains additional processing of the variety trial codes to construct the parameter set for model scoring."
   ]
  },
  {
   "cell_type": "code",
   "execution_count": 32,
   "metadata": {},
   "outputs": [],
   "source": [
    "# Import Libraries\n",
    "import numpy as np\n",
    "import pandas as pd"
   ]
  },
  {
   "cell_type": "code",
   "execution_count": 33,
   "metadata": {},
   "outputs": [
    {
     "name": "stdout",
     "output_type": "stream",
     "text": [
      "<class 'pandas.core.frame.DataFrame'>\n",
      "RangeIndex: 84 entries, 0 to 83\n",
      "Data columns (total 34 columns):\n",
      " #   Column     Non-Null Count  Dtype  \n",
      "---  ------     --------------  -----  \n",
      " 0   code       84 non-null     object \n",
      " 1   trial_001  84 non-null     float64\n",
      " 2   trial_006  84 non-null     float64\n",
      " 3   trial_008  84 non-null     float64\n",
      " 4   trial_009  84 non-null     float64\n",
      " 5   trial_011  84 non-null     float64\n",
      " 6   trial_013  84 non-null     float64\n",
      " 7   trial_015  84 non-null     float64\n",
      " 8   trial_016  84 non-null     float64\n",
      " 9   trial_018  84 non-null     float64\n",
      " 10  trial_023  84 non-null     float64\n",
      " 11  trial_026  84 non-null     float64\n",
      " 12  trial_034  84 non-null     float64\n",
      " 13  trial_036  84 non-null     float64\n",
      " 14  trial_040  84 non-null     float64\n",
      " 15  trial_044  84 non-null     float64\n",
      " 16  trial_045  84 non-null     float64\n",
      " 17  trial_048  84 non-null     float64\n",
      " 18  trial_052  84 non-null     float64\n",
      " 19  trial_055  84 non-null     float64\n",
      " 20  trial_059  84 non-null     float64\n",
      " 21  trial_060  84 non-null     float64\n",
      " 22  trial_066  84 non-null     float64\n",
      " 23  trial_067  84 non-null     float64\n",
      " 24  trial_069  84 non-null     float64\n",
      " 25  trial_072  84 non-null     float64\n",
      " 26  trial_078  84 non-null     float64\n",
      " 27  trial_081  84 non-null     float64\n",
      " 28  trial_083  84 non-null     float64\n",
      " 29  trial_086  84 non-null     float64\n",
      " 30  trial_091  84 non-null     float64\n",
      " 31  trial_092  84 non-null     float64\n",
      " 32  trial_094  84 non-null     float64\n",
      " 33  entity     84 non-null     object \n",
      "dtypes: float64(32), object(2)\n",
      "memory usage: 22.4+ KB\n",
      "None\n"
     ]
    }
   ],
   "source": [
    "# Read in the raw codes csv file\n",
    "df_raw = pd.read_csv('codes_all.csv')\n",
    "print(df_raw.info())"
   ]
  },
  {
   "cell_type": "code",
   "execution_count": 34,
   "metadata": {},
   "outputs": [],
   "source": [
    "# transpose the dataframe\n",
    "df_raw.drop('entity', axis=1, inplace=True)\n",
    "df_raw.set_index('code', inplace=True)\n",
    "df_tr = df_raw.T"
   ]
  },
  {
   "cell_type": "code",
   "execution_count": 35,
   "metadata": {},
   "outputs": [
    {
     "name": "stdout",
     "output_type": "stream",
     "text": [
      "<class 'pandas.core.frame.DataFrame'>\n",
      "Index: 32 entries, trial_001 to trial_094\n",
      "Data columns (total 84 columns):\n",
      " #   Column                                          Non-Null Count  Dtype  \n",
      "---  ------                                          --------------  -----  \n",
      " 0   bed dimensions                                  32 non-null     float64\n",
      " 1   rows per bed                                    32 non-null     float64\n",
      " 2   cultivar growth pattern                         32 non-null     float64\n",
      " 3   cultivar name                                   32 non-null     float64\n",
      " 4   fertilizer application date                     32 non-null     float64\n",
      " 5   fertilizer application frequency                32 non-null     float64\n",
      " 6   fertilizer application method                   32 non-null     float64\n",
      " 7   fertilizer application range                    32 non-null     float64\n",
      " 8   fertilizer application rate                     32 non-null     float64\n",
      " 9   fertilizer brand name                           32 non-null     float64\n",
      " 10  fertilizer concentration                        32 non-null     float64\n",
      " 11  fertilizer type                                 32 non-null     float64\n",
      " 12  previous crop name                              32 non-null     float64\n",
      " 13  previous crop termination date                  32 non-null     float64\n",
      " 14  fruit color                                     32 non-null     float64\n",
      " 15  fruit dimensions                                32 non-null     float64\n",
      " 16  fruit grade                                     32 non-null     float64\n",
      " 17  fruit quality assessment                        32 non-null     float64\n",
      " 18  ground cover type                               32 non-null     float64\n",
      " 19  harvest date                                    32 non-null     float64\n",
      " 20  harvest frequency                               32 non-null     float64\n",
      " 21  harvest method                                  32 non-null     float64\n",
      " 22  harvest range                                   32 non-null     float64\n",
      " 23  irrigation frequency                            32 non-null     float64\n",
      " 24  irrigation method                               32 non-null     float64\n",
      " 25  irrigation rate                                 32 non-null     float64\n",
      " 26  location coordinates                            32 non-null     float64\n",
      " 27  location name                                   32 non-null     float64\n",
      " 28  plants per plot                                 32 non-null     float64\n",
      " 29  plants per replicate                            32 non-null     float64\n",
      " 30  plot dimensions                                 32 non-null     float64\n",
      " 31  plot layout                                     32 non-null     float64\n",
      " 32  replicate number                                32 non-null     float64\n",
      " 33  pruning method                                  32 non-null     float64\n",
      " 34  seeding container dimensions                    32 non-null     float64\n",
      " 35  seeding date                                    32 non-null     float64\n",
      " 36  seeding method                                  32 non-null     float64\n",
      " 37  soil cation exchange capacity on sampling date  32 non-null     float64\n",
      " 38  soil nutrient concentration on sampling date    32 non-null     float64\n",
      " 39  soil organic matter concentration               32 non-null     float64\n",
      " 40  soil pH on sampling date                        32 non-null     float64\n",
      " 41  soil texture                                    32 non-null     float64\n",
      " 42  soil type                                       32 non-null     float64\n",
      " 43  between-row spacing                             32 non-null     float64\n",
      " 44  plant density                                   32 non-null     float64\n",
      " 45  within-row spacing                              32 non-null     float64\n",
      " 46  statistical method                              32 non-null     float64\n",
      " 47  leaf nutrient content on sampling date          32 non-null     float64\n",
      " 48  plant height on sampling date                   32 non-null     float64\n",
      " 49  total plant biomass end of season               32 non-null     float64\n",
      " 50  total plant biomass on sampling date            32 non-null     float64\n",
      " 51  transplanting date                              32 non-null     float64\n",
      " 52  transplanting method                            32 non-null     float64\n",
      " 53  sampling date                                   32 non-null     float64\n",
      " 54  sampling method                                 32 non-null     float64\n",
      " 55  treatment method                                32 non-null     float64\n",
      " 56  treatment name                                  32 non-null     float64\n",
      " 57  trellis dimensions                              32 non-null     float64\n",
      " 58  trellis type                                    32 non-null     float64\n",
      " 59  tunnel type                                     32 non-null     float64\n",
      " 60  ventilation method                              32 non-null     float64\n",
      " 61  disease control method                          32 non-null     float64\n",
      " 62  disease incidence on sampling date              32 non-null     float64\n",
      " 63  disease monitoring method                       32 non-null     float64\n",
      " 64  disease name                                    32 non-null     float64\n",
      " 65  disease resistance                              32 non-null     float64\n",
      " 66  fungi control method                            32 non-null     float64\n",
      " 67  fungi incidence on sampling date                32 non-null     float64\n",
      " 68  fungi monitoring method                         32 non-null     float64\n",
      " 69  fungi name                                      32 non-null     float64\n",
      " 70  fungicide application date                      32 non-null     float64\n",
      " 71  fungicide application frequency                 32 non-null     float64\n",
      " 72  fungicide brand name                            32 non-null     float64\n",
      " 73  herbicide brand name                            32 non-null     float64\n",
      " 74  pest control method                             32 non-null     float64\n",
      " 75  pest incidence on sampling date                 32 non-null     float64\n",
      " 76  pest monitoring method                          32 non-null     float64\n",
      " 77  pesticide application date                      32 non-null     float64\n",
      " 78  pesticide brand name                            32 non-null     float64\n",
      " 79  weed control method                             32 non-null     float64\n",
      " 80  cumulative harvested fruit number               32 non-null     float64\n",
      " 81  cumulative harvested yield                      32 non-null     float64\n",
      " 82  harvested fruit number                          32 non-null     float64\n",
      " 83  harvested yield                                 32 non-null     float64\n",
      "dtypes: float64(84)\n",
      "memory usage: 21.2+ KB\n",
      "None\n"
     ]
    }
   ],
   "source": [
    "print(df_tr.info())"
   ]
  },
  {
   "cell_type": "markdown",
   "metadata": {},
   "source": [
    "## Complex Parameter Calculation\n",
    "Some parameters are complex--meaning they can be calculated as a sum or product of other parameters. For example, plant density can be calculated by multiplying plant and row spacing, or by dividing plants per plot by plot dimensions. If a complex parameter is not reported, but enough information is present to calculate it, then the parameter should be counted as reported."
   ]
  },
  {
   "cell_type": "code",
   "execution_count": 36,
   "metadata": {},
   "outputs": [
    {
     "name": "stdout",
     "output_type": "stream",
     "text": [
      "plant density\n",
      "0.0    20\n",
      "1.0    12\n",
      "Name: count, dtype: int64\n",
      "9\n",
      "Index(['trial_013', 'trial_052', 'trial_055', 'trial_059', 'trial_060',\n",
      "       'trial_066', 'trial_072', 'trial_081', 'trial_083'],\n",
      "      dtype='object')\n",
      "6\n",
      "Index(['trial_015', 'trial_044', 'trial_048', 'trial_055', 'trial_059',\n",
      "       'trial_083'],\n",
      "      dtype='object')\n",
      "5\n",
      "Index(['trial_044', 'trial_045', 'trial_048', 'trial_052', 'trial_059'], dtype='object')\n"
     ]
    }
   ],
   "source": [
    "# Determine how many trials report plant density\n",
    "print(df_tr['plant density'].value_counts())\n",
    "\n",
    "# Determine how many trials report between-row spacing and within-row spacing, but not plant density\n",
    "qdf = df_tr.query('`between-row spacing` == 1 and `within-row spacing` == 1 and `plant density` == 0')\n",
    "print(len(qdf))\n",
    "print(qdf.index)\n",
    "\n",
    "# Determine how many trials report within-row spacing and bed dimensions, but not plant density or rows per bed\n",
    "qdf = df_tr.query('`within-row spacing` == 1 and `bed dimensions` == 1 and `plant density` == 0 and `rows per bed` == 0')\n",
    "print(len(qdf))\n",
    "print(qdf.index)\n",
    "\n",
    "# Determine how many trials report plants per plot and plot dimensions, but not plant density\n",
    "qdf = df_tr.query('`plants per plot` == 1 and `plot dimensions` == 1 and `plant density` == 0')\n",
    "print(len(qdf))\n",
    "print(qdf.index)"
   ]
  },
  {
   "cell_type": "code",
   "execution_count": 37,
   "metadata": {},
   "outputs": [
    {
     "name": "stdout",
     "output_type": "stream",
     "text": [
      "plant density\n",
      "1.0    25\n",
      "0.0     7\n",
      "Name: count, dtype: int64\n"
     ]
    }
   ],
   "source": [
    "# Add plant density if component parameters are present\n",
    "qdf1 = df_tr.query('`between-row spacing` == 1 and `within-row spacing` == 1 and `plant density` == 0')\n",
    "qdf2 = df_tr.query('`within-row spacing` == 1 and `bed dimensions` == 1 and `plant density` == 0 and `rows per bed` == 0')\n",
    "qdf3 = df_tr.query('`plants per plot` == 1 and `plot dimensions` == 1 and `plant density` == 0')\n",
    "# merge dataframes\n",
    "qdf = qdf1.merge(qdf2, how='outer', left_index=True, right_index=True)\n",
    "qdf = qdf.merge(qdf3, how='outer', left_index=True, right_index=True)\n",
    "# add plant density in df_tr if in qdf\n",
    "for index in qdf.index:\n",
    "    df_tr.loc[index, 'plant density'] = 1\n",
    "print(df_tr['plant density'].value_counts())"
   ]
  },
  {
   "cell_type": "markdown",
   "metadata": {},
   "source": [
    "Note: bed dimensions refers to both the width of the bed and also the distance between bed centers, which is the same as between-row spacing when rows per bed is not reported. This is because rows per bed are assumed to be 1 unless otherwise reported. If there are multiple rows per bed, then between-row and bed dimensions must be listed because they are not synonymous in this case."
   ]
  },
  {
   "cell_type": "code",
   "execution_count": 38,
   "metadata": {},
   "outputs": [
    {
     "name": "stdout",
     "output_type": "stream",
     "text": [
      "6\n",
      "Index(['trial_015', 'trial_044', 'trial_048', 'trial_078', 'trial_091',\n",
      "       'trial_092'],\n",
      "      dtype='object')\n",
      "between-row spacing\n",
      "1.0    24\n",
      "0.0     8\n",
      "Name: count, dtype: int64\n"
     ]
    }
   ],
   "source": [
    "# Determine how many trials report bed dimensions but not between-row spacing or rows per bed\n",
    "qdf = df_tr.query('`bed dimensions` == 1 and `between-row spacing` == 0 and `rows per bed` == 0')\n",
    "print(len(qdf))\n",
    "print(qdf.index)\n",
    "# Add between-row spacing if row dimensions are present\n",
    "for index in qdf.index:\n",
    "    df_tr.loc[index, 'between-row spacing'] = 1\n",
    "print(df_tr['between-row spacing'].value_counts())"
   ]
  },
  {
   "cell_type": "code",
   "execution_count": 39,
   "metadata": {},
   "outputs": [
    {
     "name": "stdout",
     "output_type": "stream",
     "text": [
      "4\n",
      "Index(['trial_023', 'trial_052', 'trial_066', 'trial_081'], dtype='object')\n",
      "bed dimensions\n",
      "1.0    27\n",
      "0.0     5\n",
      "Name: count, dtype: int64\n"
     ]
    }
   ],
   "source": [
    "# Determine how many trials report between-row spacing but not bed dimensions or rows per bed\n",
    "qdf = df_tr.query('`between-row spacing` == 1 and `bed dimensions` == 0 and `rows per bed` == 0')\n",
    "print(len(qdf))\n",
    "print(qdf.index)\n",
    "# Add bed dimensions if row dimensions are present\n",
    "for index in qdf.index:\n",
    "    df_tr.loc[index, 'bed dimensions'] = 1\n",
    "print(df_tr['bed dimensions'].value_counts())"
   ]
  },
  {
   "cell_type": "markdown",
   "metadata": {},
   "source": [
    "Note: fertilizer brand name implies both the fertilizer type and concentration (NPK value). This is different from fertilizer application rate, which states how much of it or its component nutrients were applied per unit area."
   ]
  },
  {
   "cell_type": "code",
   "execution_count": 40,
   "metadata": {},
   "outputs": [
    {
     "name": "stdout",
     "output_type": "stream",
     "text": [
      "6\n",
      "Index(['trial_006', 'trial_008', 'trial_034', 'trial_069', 'trial_072',\n",
      "       'trial_086'],\n",
      "      dtype='object')\n",
      "fertilizer type\n",
      "1.0    31\n",
      "0.0     1\n",
      "Name: count, dtype: int64\n"
     ]
    }
   ],
   "source": [
    "# Determine how many trials report fertilizer brand name, but not type or concentration\n",
    "qdf = df_tr.query('`fertilizer brand name` == 1 and `fertilizer type` == 0 or `fertilizer concentration` == 0')\n",
    "print(len(qdf))\n",
    "print(qdf.index)\n",
    "# add fertilizer type and concentration if brand name is present\n",
    "for index in qdf.index:\n",
    "    df_tr.loc[index, 'fertilizer type'] = 1\n",
    "    df_tr.loc[index, 'fertilizer concentration'] = 1\n",
    "print(df_tr['fertilizer type'].value_counts())"
   ]
  },
  {
   "cell_type": "markdown",
   "metadata": {},
   "source": [
    "Note: the use of a -cide chemical to control fungi, pests, or weeds denotes a control method. So if a -cide is reported but control method is not, the control method should be reported."
   ]
  },
  {
   "cell_type": "code",
   "execution_count": 41,
   "metadata": {},
   "outputs": [
    {
     "name": "stdout",
     "output_type": "stream",
     "text": [
      "0\n",
      "Index([], dtype='object')\n",
      "fungi control method\n",
      "1.0    17\n",
      "0.0    15\n",
      "Name: count, dtype: int64\n"
     ]
    }
   ],
   "source": [
    "# Determine how many trials report fungicide brand name, but not fungi control method\n",
    "qdf = df_tr.query('`fungicide brand name` == 1 and `fungi control method` == 0')\n",
    "print(len(qdf))\n",
    "print(qdf.index)\n",
    "# add fungi control method if brand name is present\n",
    "for index in qdf.index:\n",
    "    df_tr.loc[index, 'fungi control method'] = 1\n",
    "print(df_tr['fungi control method'].value_counts())"
   ]
  },
  {
   "cell_type": "code",
   "execution_count": 42,
   "metadata": {},
   "outputs": [
    {
     "name": "stdout",
     "output_type": "stream",
     "text": [
      "0\n",
      "Index([], dtype='object')\n",
      "weed control method\n",
      "1.0    20\n",
      "0.0    12\n",
      "Name: count, dtype: int64\n"
     ]
    }
   ],
   "source": [
    "# Determine how many trials report herbicide brand name, but not weed control method\n",
    "qdf = df_tr.query('`herbicide brand name` == 1 and `weed control method` == 0')\n",
    "print(len(qdf))\n",
    "print(qdf.index)\n",
    "# add weed control method if brand name is present\n",
    "for index in qdf.index:\n",
    "    df_tr.loc[index, 'weed control method'] = 1\n",
    "print(df_tr['weed control method'].value_counts())"
   ]
  },
  {
   "cell_type": "code",
   "execution_count": 43,
   "metadata": {},
   "outputs": [
    {
     "name": "stdout",
     "output_type": "stream",
     "text": [
      "0\n",
      "Index([], dtype='object')\n",
      "pest control method\n",
      "1.0    25\n",
      "0.0     7\n",
      "Name: count, dtype: int64\n"
     ]
    }
   ],
   "source": [
    "# Determine how many trials report pesticide brand name, but not pest control method\n",
    "qdf = df_tr.query('`pesticide brand name` == 1 and `pest control method` == 0')\n",
    "print(len(qdf))\n",
    "print(qdf.index)\n",
    "# add pest control method if brand name is present\n",
    "for index in qdf.index:\n",
    "    df_tr.loc[index, 'pest control method'] = 1\n",
    "print(df_tr['pest control method'].value_counts())"
   ]
  },
  {
   "cell_type": "markdown",
   "metadata": {},
   "source": [
    "## Order of Specificity\n",
    "Some parameters are more specific than others with regard to temporal or spatial precision. For example, harvest date is more specific than harvest frequency, which is in turn more specific than harvest range. Harvest date provides the exact dates of harvest, while harvest frequency provides an interval within a range, and harvest range provides just the range of dates. As harvest timing is a single parameter, its units of precision should be viewed as mutually exclusive for scoring purposes. Therefore, only one level of specificity per parameter per trial is allowed."
   ]
  },
  {
   "cell_type": "code",
   "execution_count": 44,
   "metadata": {},
   "outputs": [
    {
     "name": "stdout",
     "output_type": "stream",
     "text": [
      "1\n",
      "Index(['trial_072'], dtype='object')\n",
      "fertilizer application range\n",
      "0.0    32\n",
      "Name: count, dtype: int64\n"
     ]
    }
   ],
   "source": [
    "# Determine how many trials report fertilizer application frequency and range\n",
    "qdf = df_tr.query('`fertilizer application frequency` == 1 and `fertilizer application range` == 1')\n",
    "print(len(qdf))\n",
    "print(qdf.index)\n",
    "# If both are present, remove range\n",
    "for index in qdf.index:\n",
    "    df_tr.loc[index, 'fertilizer application range'] = 0\n",
    "print(df_tr['fertilizer application range'].value_counts())"
   ]
  },
  {
   "cell_type": "code",
   "execution_count": 45,
   "metadata": {},
   "outputs": [
    {
     "name": "stdout",
     "output_type": "stream",
     "text": [
      "9\n",
      "Index(['trial_036', 'trial_040', 'trial_052', 'trial_066', 'trial_067',\n",
      "       'trial_078', 'trial_083', 'trial_091', 'trial_094'],\n",
      "      dtype='object')\n",
      "fertilizer application frequency\n",
      "0.0    31\n",
      "1.0     1\n",
      "Name: count, dtype: int64\n"
     ]
    }
   ],
   "source": [
    "# Determine how many trials report fertilizer application date and frequency\n",
    "qdf = df_tr.query('`fertilizer application date` == 1 and `fertilizer application frequency` == 1')\n",
    "print(len(qdf))\n",
    "print(qdf.index)\n",
    "# If both are present, remove frequency\n",
    "for index in qdf.index:\n",
    "    df_tr.loc[index, 'fertilizer application frequency'] = 0\n",
    "print(df_tr['fertilizer application frequency'].value_counts())"
   ]
  },
  {
   "cell_type": "code",
   "execution_count": 46,
   "metadata": {},
   "outputs": [
    {
     "name": "stdout",
     "output_type": "stream",
     "text": [
      "0\n",
      "Index([], dtype='object')\n",
      "fertilizer application range\n",
      "0.0    32\n",
      "Name: count, dtype: int64\n"
     ]
    }
   ],
   "source": [
    "# Determine how many trials report fertilizer application date and range\n",
    "qdf = df_tr.query('`fertilizer application date` == 1 and `fertilizer application range` == 1')\n",
    "print(len(qdf))\n",
    "print(qdf.index)\n",
    "# If both are present, remove range\n",
    "for index in qdf.index:\n",
    "    df_tr.loc[index, 'fertilizer application range'] = 0\n",
    "print(df_tr['fertilizer application range'].value_counts())"
   ]
  },
  {
   "cell_type": "code",
   "execution_count": 47,
   "metadata": {},
   "outputs": [
    {
     "name": "stdout",
     "output_type": "stream",
     "text": [
      "3\n",
      "Index(['trial_072', 'trial_083', 'trial_094'], dtype='object')\n",
      "harvest range\n",
      "0.0    29\n",
      "1.0     3\n",
      "Name: count, dtype: int64\n"
     ]
    }
   ],
   "source": [
    "# Determine how many trials report harvest frequency and range\n",
    "qdf = df_tr.query('`harvest frequency` == 1 and `harvest range` == 1')\n",
    "print(len(qdf))\n",
    "print(qdf.index)\n",
    "# If both are present, remove range\n",
    "for index in qdf.index:\n",
    "    df_tr.loc[index, 'harvest range'] = 0\n",
    "print(df_tr['harvest range'].value_counts())"
   ]
  },
  {
   "cell_type": "code",
   "execution_count": 48,
   "metadata": {},
   "outputs": [
    {
     "name": "stdout",
     "output_type": "stream",
     "text": [
      "9\n",
      "Index(['trial_008', 'trial_023', 'trial_026', 'trial_044', 'trial_052',\n",
      "       'trial_059', 'trial_078', 'trial_083', 'trial_094'],\n",
      "      dtype='object')\n",
      "harvest frequency\n",
      "0.0    30\n",
      "1.0     2\n",
      "Name: count, dtype: int64\n"
     ]
    }
   ],
   "source": [
    "# Determine how many trials report harvest date and frequency\n",
    "qdf = df_tr.query('`harvest date` == 1 and `harvest frequency` == 1')\n",
    "print(len(qdf))\n",
    "print(qdf.index)\n",
    "# If both are present, remove frequency\n",
    "for index in qdf.index:\n",
    "    df_tr.loc[index, 'harvest frequency'] = 0\n",
    "print(df_tr['harvest frequency'].value_counts())"
   ]
  },
  {
   "cell_type": "code",
   "execution_count": 49,
   "metadata": {},
   "outputs": [
    {
     "name": "stdout",
     "output_type": "stream",
     "text": [
      "1\n",
      "Index(['trial_092'], dtype='object')\n",
      "harvest range\n",
      "0.0    30\n",
      "1.0     2\n",
      "Name: count, dtype: int64\n"
     ]
    }
   ],
   "source": [
    "# Determine how many trials report harvest date and range\n",
    "qdf = df_tr.query('`harvest date` == 1 and `harvest range` == 1')\n",
    "print(len(qdf))\n",
    "print(qdf.index)\n",
    "# If both are present, remove range\n",
    "for index in qdf.index:\n",
    "    df_tr.loc[index, 'harvest range'] = 0\n",
    "print(df_tr['harvest range'].value_counts())"
   ]
  },
  {
   "cell_type": "code",
   "execution_count": 50,
   "metadata": {},
   "outputs": [
    {
     "name": "stdout",
     "output_type": "stream",
     "text": [
      "0\n",
      "Index([], dtype='object')\n",
      "fungicide application frequency\n",
      "0.0    30\n",
      "1.0     2\n",
      "Name: count, dtype: int64\n"
     ]
    }
   ],
   "source": [
    "# Determine how many trials report fungicide application date and frequency\n",
    "qdf = df_tr.query('`fungicide application date` == 1 and `fungicide application frequency` == 1')\n",
    "print(len(qdf))\n",
    "print(qdf.index)\n",
    "# If both are present, remove frequency\n",
    "for index in qdf.index:\n",
    "    df_tr.loc[index, 'fungicide application frequency'] = 0\n",
    "print(df_tr['fungicide application frequency'].value_counts())"
   ]
  },
  {
   "cell_type": "code",
   "execution_count": 51,
   "metadata": {},
   "outputs": [
    {
     "name": "stdout",
     "output_type": "stream",
     "text": [
      "1\n",
      "Index(['trial_001'], dtype='object')\n",
      "total plant biomass end of season\n",
      "0.0    32\n",
      "Name: count, dtype: int64\n"
     ]
    }
   ],
   "source": [
    "# Determine how many trials report total plant biomass on sampling date and end of season\n",
    "qdf = df_tr.query('`total plant biomass on sampling date` == 1 and `total plant biomass end of season` == 1')\n",
    "print(len(qdf))\n",
    "print(qdf.index)\n",
    "# If both are present, remove end of season\n",
    "for index in qdf.index:\n",
    "    df_tr.loc[index, 'total plant biomass end of season'] = 0\n",
    "print(df_tr['total plant biomass end of season'].value_counts())"
   ]
  },
  {
   "cell_type": "code",
   "execution_count": 52,
   "metadata": {},
   "outputs": [
    {
     "name": "stdout",
     "output_type": "stream",
     "text": [
      "2\n",
      "Index(['trial_055', 'trial_059'], dtype='object')\n",
      "cumulative harvested fruit number\n",
      "1.0    17\n",
      "0.0    15\n",
      "Name: count, dtype: int64\n"
     ]
    }
   ],
   "source": [
    "# Determine how many trials report harvested fruit number and cumulative harvested fruit number\n",
    "qdf = df_tr.query('`harvested fruit number` == 1 and `cumulative harvested fruit number` == 1')\n",
    "print(len(qdf))\n",
    "print(qdf.index)\n",
    "# If both are present, remove cumulative\n",
    "for index in qdf.index:\n",
    "    df_tr.loc[index, 'cumulative harvested fruit number'] = 0\n",
    "print(df_tr['cumulative harvested fruit number'].value_counts())"
   ]
  },
  {
   "cell_type": "code",
   "execution_count": 53,
   "metadata": {},
   "outputs": [
    {
     "name": "stdout",
     "output_type": "stream",
     "text": [
      "3\n",
      "Index(['trial_055', 'trial_059', 'trial_083'], dtype='object')\n",
      "cumulative harvested yield\n",
      "1.0    26\n",
      "0.0     6\n",
      "Name: count, dtype: int64\n"
     ]
    }
   ],
   "source": [
    "# Determine how many trials report harvested  yield and cumulative harvested yield\n",
    "qdf = df_tr.query('`harvested yield` == 1 and `cumulative harvested yield` == 1')\n",
    "print(len(qdf))\n",
    "print(qdf.index)\n",
    "# If both are present, remove cumulative\n",
    "for index in qdf.index:\n",
    "    df_tr.loc[index, 'cumulative harvested yield'] = 0\n",
    "print(df_tr['cumulative harvested yield'].value_counts())"
   ]
  },
  {
   "cell_type": "code",
   "execution_count": 54,
   "metadata": {},
   "outputs": [
    {
     "name": "stdout",
     "output_type": "stream",
     "text": [
      "<class 'pandas.core.frame.DataFrame'>\n",
      "Index: 84 entries, bed dimensions to harvested yield\n",
      "Data columns (total 32 columns):\n",
      " #   Column     Non-Null Count  Dtype  \n",
      "---  ------     --------------  -----  \n",
      " 0   trial_001  84 non-null     float64\n",
      " 1   trial_006  84 non-null     float64\n",
      " 2   trial_008  84 non-null     float64\n",
      " 3   trial_009  84 non-null     float64\n",
      " 4   trial_011  84 non-null     float64\n",
      " 5   trial_013  84 non-null     float64\n",
      " 6   trial_015  84 non-null     float64\n",
      " 7   trial_016  84 non-null     float64\n",
      " 8   trial_018  84 non-null     float64\n",
      " 9   trial_023  84 non-null     float64\n",
      " 10  trial_026  84 non-null     float64\n",
      " 11  trial_034  84 non-null     float64\n",
      " 12  trial_036  84 non-null     float64\n",
      " 13  trial_040  84 non-null     float64\n",
      " 14  trial_044  84 non-null     float64\n",
      " 15  trial_045  84 non-null     float64\n",
      " 16  trial_048  84 non-null     float64\n",
      " 17  trial_052  84 non-null     float64\n",
      " 18  trial_055  84 non-null     float64\n",
      " 19  trial_059  84 non-null     float64\n",
      " 20  trial_060  84 non-null     float64\n",
      " 21  trial_066  84 non-null     float64\n",
      " 22  trial_067  84 non-null     float64\n",
      " 23  trial_069  84 non-null     float64\n",
      " 24  trial_072  84 non-null     float64\n",
      " 25  trial_078  84 non-null     float64\n",
      " 26  trial_081  84 non-null     float64\n",
      " 27  trial_083  84 non-null     float64\n",
      " 28  trial_086  84 non-null     float64\n",
      " 29  trial_091  84 non-null     float64\n",
      " 30  trial_092  84 non-null     float64\n",
      " 31  trial_094  84 non-null     float64\n",
      "dtypes: float64(32)\n",
      "memory usage: 23.7+ KB\n"
     ]
    }
   ],
   "source": [
    "# transpose the dataframe\n",
    "df_pr = df_tr.T\n",
    "df_pr.info()"
   ]
  },
  {
   "cell_type": "code",
   "execution_count": 55,
   "metadata": {},
   "outputs": [
    {
     "name": "stdout",
     "output_type": "stream",
     "text": [
      "2\n",
      "<class 'pandas.core.frame.DataFrame'>\n",
      "Index: 82 entries, bed dimensions to harvested yield\n",
      "Data columns (total 32 columns):\n",
      " #   Column     Non-Null Count  Dtype  \n",
      "---  ------     --------------  -----  \n",
      " 0   trial_001  82 non-null     float64\n",
      " 1   trial_006  82 non-null     float64\n",
      " 2   trial_008  82 non-null     float64\n",
      " 3   trial_009  82 non-null     float64\n",
      " 4   trial_011  82 non-null     float64\n",
      " 5   trial_013  82 non-null     float64\n",
      " 6   trial_015  82 non-null     float64\n",
      " 7   trial_016  82 non-null     float64\n",
      " 8   trial_018  82 non-null     float64\n",
      " 9   trial_023  82 non-null     float64\n",
      " 10  trial_026  82 non-null     float64\n",
      " 11  trial_034  82 non-null     float64\n",
      " 12  trial_036  82 non-null     float64\n",
      " 13  trial_040  82 non-null     float64\n",
      " 14  trial_044  82 non-null     float64\n",
      " 15  trial_045  82 non-null     float64\n",
      " 16  trial_048  82 non-null     float64\n",
      " 17  trial_052  82 non-null     float64\n",
      " 18  trial_055  82 non-null     float64\n",
      " 19  trial_059  82 non-null     float64\n",
      " 20  trial_060  82 non-null     float64\n",
      " 21  trial_066  82 non-null     float64\n",
      " 22  trial_067  82 non-null     float64\n",
      " 23  trial_069  82 non-null     float64\n",
      " 24  trial_072  82 non-null     float64\n",
      " 25  trial_078  82 non-null     float64\n",
      " 26  trial_081  82 non-null     float64\n",
      " 27  trial_083  82 non-null     float64\n",
      " 28  trial_086  82 non-null     float64\n",
      " 29  trial_091  82 non-null     float64\n",
      " 30  trial_092  82 non-null     float64\n",
      " 31  trial_094  82 non-null     float64\n",
      "dtypes: float64(32)\n",
      "memory usage: 21.1+ KB\n"
     ]
    }
   ],
   "source": [
    "# print the number of rows with only zeros and no ones\n",
    "print(len(df_pr[(df_pr == 0).all(axis=1)]))\n",
    "# drop rows with only zeros\n",
    "df_pr = df_pr[~(df_pr == 0).all(axis=1)]\n",
    "df_pr.info()"
   ]
  },
  {
   "cell_type": "code",
   "execution_count": 56,
   "metadata": {},
   "outputs": [
    {
     "name": "stdout",
     "output_type": "stream",
     "text": [
      "<class 'pandas.core.frame.DataFrame'>\n",
      "RangeIndex: 84 entries, 0 to 83\n",
      "Data columns (total 2 columns):\n",
      " #   Column     Non-Null Count  Dtype \n",
      "---  ------     --------------  ----- \n",
      " 0   attribute  84 non-null     object\n",
      " 1   entity     84 non-null     object\n",
      "dtypes: object(2)\n",
      "memory usage: 1.4+ KB\n",
      "None\n"
     ]
    }
   ],
   "source": [
    "# Read in the data dict csv file\n",
    "df_dict = pd.read_csv('data_dict.csv')\n",
    "print(df_dict.info())"
   ]
  },
  {
   "cell_type": "code",
   "execution_count": 57,
   "metadata": {},
   "outputs": [
    {
     "name": "stdout",
     "output_type": "stream",
     "text": [
      "<class 'pandas.core.frame.DataFrame'>\n",
      "Index: 82 entries, bed dimensions to harvested yield\n",
      "Data columns (total 33 columns):\n",
      " #   Column     Non-Null Count  Dtype  \n",
      "---  ------     --------------  -----  \n",
      " 0   trial_001  82 non-null     float64\n",
      " 1   trial_006  82 non-null     float64\n",
      " 2   trial_008  82 non-null     float64\n",
      " 3   trial_009  82 non-null     float64\n",
      " 4   trial_011  82 non-null     float64\n",
      " 5   trial_013  82 non-null     float64\n",
      " 6   trial_015  82 non-null     float64\n",
      " 7   trial_016  82 non-null     float64\n",
      " 8   trial_018  82 non-null     float64\n",
      " 9   trial_023  82 non-null     float64\n",
      " 10  trial_026  82 non-null     float64\n",
      " 11  trial_034  82 non-null     float64\n",
      " 12  trial_036  82 non-null     float64\n",
      " 13  trial_040  82 non-null     float64\n",
      " 14  trial_044  82 non-null     float64\n",
      " 15  trial_045  82 non-null     float64\n",
      " 16  trial_048  82 non-null     float64\n",
      " 17  trial_052  82 non-null     float64\n",
      " 18  trial_055  82 non-null     float64\n",
      " 19  trial_059  82 non-null     float64\n",
      " 20  trial_060  82 non-null     float64\n",
      " 21  trial_066  82 non-null     float64\n",
      " 22  trial_067  82 non-null     float64\n",
      " 23  trial_069  82 non-null     float64\n",
      " 24  trial_072  82 non-null     float64\n",
      " 25  trial_078  82 non-null     float64\n",
      " 26  trial_081  82 non-null     float64\n",
      " 27  trial_083  82 non-null     float64\n",
      " 28  trial_086  82 non-null     float64\n",
      " 29  trial_091  82 non-null     float64\n",
      " 30  trial_092  82 non-null     float64\n",
      " 31  trial_094  82 non-null     float64\n",
      " 32  entity     82 non-null     object \n",
      "dtypes: float64(32), object(1)\n",
      "memory usage: 21.8+ KB\n",
      "None\n"
     ]
    }
   ],
   "source": [
    "# merge the dataframes\n",
    "df_pr['entity'] = df_pr.index.map(df_dict.set_index('attribute')['entity'])\n",
    "df_pr.sort_values(by=['entity', 'code'], inplace=True)\n",
    "print(df_pr.info())"
   ]
  },
  {
   "cell_type": "code",
   "execution_count": 58,
   "metadata": {},
   "outputs": [],
   "source": [
    "# send to csv file\n",
    "df_pr.to_csv('codes_all_processed.csv')"
   ]
  },
  {
   "cell_type": "code",
   "execution_count": 59,
   "metadata": {},
   "outputs": [
    {
     "name": "stdout",
     "output_type": "stream",
     "text": [
      "<class 'pandas.core.frame.DataFrame'>\n",
      "Index: 32 entries, 0 to 93\n",
      "Data columns (total 4 columns):\n",
      " #   Column      Non-Null Count  Dtype \n",
      "---  ------      --------------  ----- \n",
      " 0   Trial ID    32 non-null     object\n",
      " 1   Sample      32 non-null     object\n",
      " 2   Species     32 non-null     object\n",
      " 3   Trial Type  32 non-null     object\n",
      "dtypes: object(4)\n",
      "memory usage: 1.2+ KB\n"
     ]
    }
   ],
   "source": [
    "# Load trial directory\n",
    "tdf = pd.read_csv('trials.csv', usecols=['Trial ID', 'Sample', 'Species', 'Trial Type'], dtype=str)\n",
    "# Drop rows with missing values for the Sample column (unsampled trials)\n",
    "tdf.dropna(subset=['Sample'], inplace=True)\n",
    "tdf.info()"
   ]
  },
  {
   "cell_type": "code",
   "execution_count": 60,
   "metadata": {},
   "outputs": [],
   "source": [
    "# Create a dataframe with the codes and the fraction of trials in which they appear\n",
    "df_pr.drop(columns=['entity'], inplace=True)\n",
    "sum_df = df_pr.sum(axis=1)\n",
    "sum_df = sum_df/tdf.shape[0]\n",
    "sum_df = sum_df.to_frame()\n",
    "sum_df.columns = ['All_Trials']\n",
    "# Set decimal precision to 2\n",
    "sum_df = sum_df.round(2)"
   ]
  },
  {
   "cell_type": "code",
   "execution_count": 61,
   "metadata": {},
   "outputs": [
    {
     "name": "stdout",
     "output_type": "stream",
     "text": [
      "                                   All_Trials  Pepper  Tomato  Watermelon  \\\n",
      "code                                                                        \n",
      "bed dimensions                           0.84    0.92    0.75        0.86   \n",
      "rows per bed                             0.38    0.69    0.25        0.00   \n",
      "cultivar growth pattern                  0.16    0.00    0.42        0.00   \n",
      "cultivar name                            1.00    1.00    1.00        1.00   \n",
      "fertilizer application date              0.75    0.77    0.75        0.71   \n",
      "...                                       ...     ...     ...         ...   \n",
      "weed control method                      0.62    0.62    0.67        0.57   \n",
      "cumulative harvested fruit number        0.53    0.38    0.58        0.71   \n",
      "cumulative harvested yield               0.81    0.92    0.75        0.71   \n",
      "harvested fruit number                   0.09    0.00    0.08        0.29   \n",
      "harvested yield                          0.09    0.00    0.08        0.29   \n",
      "\n",
      "                                   Management  Variety  \n",
      "code                                                    \n",
      "bed dimensions                            0.8     0.85  \n",
      "rows per bed                              0.4     0.37  \n",
      "cultivar growth pattern                   0.2     0.15  \n",
      "cultivar name                             1.0     1.00  \n",
      "fertilizer application date               0.8     0.74  \n",
      "...                                       ...      ...  \n",
      "weed control method                       0.8     0.59  \n",
      "cumulative harvested fruit number         0.2     0.59  \n",
      "cumulative harvested yield                0.8     0.81  \n",
      "harvested fruit number                    0.0     0.11  \n",
      "harvested yield                           0.0     0.11  \n",
      "\n",
      "[82 rows x 6 columns]\n"
     ]
    }
   ],
   "source": [
    "# For the subset of trials with each species, add a column that indicates the fraction of trials in which each code appears\n",
    "species = ['Pepper', 'Tomato', 'Watermelon']\n",
    "for s in species:\n",
    "    # Get the subset of trials that include the species substring in the Species column\n",
    "    subset = tdf.loc[tdf['Species'].str.contains(s)]['Trial ID'].to_list()\n",
    "    # Subset cdf to include columns from the subset of trials\n",
    "    df_subset = df_pr[[col for col in df_pr.columns if col.split('_')[1] in subset]]\n",
    "    # Calculate the fraction of trials in which each code appears\n",
    "    sum_df[s] = df_subset.sum(axis=1)/len(subset)\n",
    "    # Set decimal precision to 2\n",
    "    sum_df[s] = sum_df[s].round(2)\n",
    "\n",
    "# For the subset of trials with each trial type, add a column that indicates the fraction of trials in which each code appears\n",
    "trial_types = ['Management', 'Variety']\n",
    "for t in trial_types:\n",
    "    # Get the subset of trials that include the trial type substring in the Trial Type column\n",
    "    subset = tdf.loc[tdf['Trial Type'].str.contains(t)]['Trial ID'].to_list()\n",
    "    # Subset cdf to include columns from the subset of trials\n",
    "    df_subset = df_pr[[col for col in df_pr.columns if col.split('_')[1] in subset]]\n",
    "    # Calculate the fraction of trials in which each code appears\n",
    "    sum_df[t] = df_subset.sum(axis=1)/len(subset)\n",
    "    # Set decimal precision to 2\n",
    "    sum_df[t] = sum_df[t].round(2)\n",
    "print(sum_df)"
   ]
  },
  {
   "cell_type": "code",
   "execution_count": 62,
   "metadata": {},
   "outputs": [],
   "source": [
    "# add entity to sum_df using code and attribute from sum_df and ddf\n",
    "sum_df['entity'] = sum_df.index.map(df_dict.set_index('attribute')['entity'])\n",
    "\n",
    "# save the dataframe to a csv file\n",
    "sum_df.to_csv('codes_summary_processed.csv', index=True)"
   ]
  },
  {
   "cell_type": "markdown",
   "metadata": {},
   "source": [
    "## Scoring Parameter Set Derivation\n",
    "Now that the parameters have been processed, it is necessary to extract the subset of parameters that will be used for dataset/model scoring. All parameters which are not used in any model will be removed, as will parameters which are synonymous in practical terms. For the purpose of defining a parameter set for models, it can be assumed that no variety trial data contains soil horizonal or profile data beyond what can be analyzed in the root zone, via a soil test. Furthermore, weather parameters will not be considered unless explicitly measured. The selection will occur manually."
   ]
  }
 ],
 "metadata": {
  "kernelspec": {
   "display_name": "pcp_env",
   "language": "python",
   "name": "python3"
  },
  "language_info": {
   "codemirror_mode": {
    "name": "ipython",
    "version": 3
   },
   "file_extension": ".py",
   "mimetype": "text/x-python",
   "name": "python",
   "nbconvert_exporter": "python",
   "pygments_lexer": "ipython3",
   "version": "3.9.18"
  }
 },
 "nbformat": 4,
 "nbformat_minor": 2
}
