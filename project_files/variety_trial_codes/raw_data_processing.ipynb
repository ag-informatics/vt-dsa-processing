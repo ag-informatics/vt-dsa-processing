{
 "cells": [
  {
   "cell_type": "markdown",
   "metadata": {},
   "source": [
    "# Raw Data Processing\n",
    "This notebook contains processing for the subset of trials with raw data available."
   ]
  },
  {
   "cell_type": "code",
   "execution_count": 1,
   "metadata": {},
   "outputs": [],
   "source": [
    "# Import packages\n",
    "import numpy as np\n",
    "import pandas as pd"
   ]
  },
  {
   "cell_type": "code",
   "execution_count": 2,
   "metadata": {},
   "outputs": [
    {
     "name": "stdout",
     "output_type": "stream",
     "text": [
      "<class 'pandas.core.frame.DataFrame'>\n",
      "RangeIndex: 91 entries, 0 to 90\n",
      "Data columns (total 9 columns):\n",
      " #   Column     Non-Null Count  Dtype  \n",
      "---  ------     --------------  -----  \n",
      " 0   Attribute  91 non-null     object \n",
      " 1   Entity     91 non-null     object \n",
      " 2   Trial 009  3 non-null      float64\n",
      " 3   Trial 011  2 non-null      float64\n",
      " 4   Trial 023  2 non-null      float64\n",
      " 5   Trial 048  1 non-null      float64\n",
      " 6   Trial 066  23 non-null     float64\n",
      " 7   Trial 081  6 non-null      float64\n",
      " 8   Trial 094  10 non-null     float64\n",
      "dtypes: float64(7), object(2)\n",
      "memory usage: 6.5+ KB\n"
     ]
    }
   ],
   "source": [
    "# Load data\n",
    "rdf = pd.read_csv('raw_vt_data.csv')\n",
    "rdf.drop('Temporality', axis=1, inplace=True)\n",
    "rdf.info()"
   ]
  },
  {
   "cell_type": "code",
   "execution_count": 3,
   "metadata": {},
   "outputs": [
    {
     "name": "stdout",
     "output_type": "stream",
     "text": [
      "<class 'pandas.core.frame.DataFrame'>\n",
      "Index: 32 entries, 2 to 81\n",
      "Data columns (total 9 columns):\n",
      " #   Column     Non-Null Count  Dtype  \n",
      "---  ------     --------------  -----  \n",
      " 0   Attribute  32 non-null     object \n",
      " 1   Entity     32 non-null     object \n",
      " 2   Trial 009  3 non-null      float64\n",
      " 3   Trial 011  2 non-null      float64\n",
      " 4   Trial 023  2 non-null      float64\n",
      " 5   Trial 048  1 non-null      float64\n",
      " 6   Trial 066  23 non-null     float64\n",
      " 7   Trial 081  6 non-null      float64\n",
      " 8   Trial 094  10 non-null     float64\n",
      "dtypes: float64(7), object(2)\n",
      "memory usage: 2.5+ KB\n"
     ]
    }
   ],
   "source": [
    "# Drop rows with no data in the trial columns\n",
    "trial_cols = rdf.columns[2:]\n",
    "rdf = rdf.dropna(subset=trial_cols, how='all')\n",
    "rdf.info()"
   ]
  },
  {
   "cell_type": "code",
   "execution_count": 4,
   "metadata": {},
   "outputs": [
    {
     "name": "stdout",
     "output_type": "stream",
     "text": [
      "<class 'pandas.core.frame.DataFrame'>\n",
      "RangeIndex: 82 entries, 0 to 81\n",
      "Data columns (total 34 columns):\n",
      " #   Column     Non-Null Count  Dtype  \n",
      "---  ------     --------------  -----  \n",
      " 0   code       82 non-null     object \n",
      " 1   trial_001  82 non-null     float64\n",
      " 2   trial_006  82 non-null     float64\n",
      " 3   trial_008  82 non-null     float64\n",
      " 4   trial_009  82 non-null     float64\n",
      " 5   trial_011  82 non-null     float64\n",
      " 6   trial_013  82 non-null     float64\n",
      " 7   trial_015  82 non-null     float64\n",
      " 8   trial_016  82 non-null     float64\n",
      " 9   trial_018  82 non-null     float64\n",
      " 10  trial_023  82 non-null     float64\n",
      " 11  trial_026  82 non-null     float64\n",
      " 12  trial_034  82 non-null     float64\n",
      " 13  trial_036  82 non-null     float64\n",
      " 14  trial_040  82 non-null     float64\n",
      " 15  trial_044  82 non-null     float64\n",
      " 16  trial_045  82 non-null     float64\n",
      " 17  trial_048  82 non-null     float64\n",
      " 18  trial_052  82 non-null     float64\n",
      " 19  trial_055  82 non-null     float64\n",
      " 20  trial_059  82 non-null     float64\n",
      " 21  trial_060  82 non-null     float64\n",
      " 22  trial_066  82 non-null     float64\n",
      " 23  trial_067  82 non-null     float64\n",
      " 24  trial_069  82 non-null     float64\n",
      " 25  trial_072  82 non-null     float64\n",
      " 26  trial_078  82 non-null     float64\n",
      " 27  trial_081  82 non-null     float64\n",
      " 28  trial_083  82 non-null     float64\n",
      " 29  trial_086  82 non-null     float64\n",
      " 30  trial_091  82 non-null     float64\n",
      " 31  trial_092  82 non-null     float64\n",
      " 32  trial_094  82 non-null     float64\n",
      " 33  entity     82 non-null     object \n",
      "dtypes: float64(32), object(2)\n",
      "memory usage: 21.9+ KB\n"
     ]
    }
   ],
   "source": [
    "# Load trial report data\n",
    "tdf = pd.read_csv('codes_all_processed.csv')\n",
    "tdf.info()"
   ]
  },
  {
   "cell_type": "code",
   "execution_count": 5,
   "metadata": {},
   "outputs": [
    {
     "name": "stdout",
     "output_type": "stream",
     "text": [
      "<class 'pandas.core.frame.DataFrame'>\n",
      "Index: 32 entries, 2 to 81\n",
      "Data columns (total 9 columns):\n",
      " #   Column     Non-Null Count  Dtype  \n",
      "---  ------     --------------  -----  \n",
      " 0   code       32 non-null     object \n",
      " 1   entity     32 non-null     object \n",
      " 2   trial_009  3 non-null      float64\n",
      " 3   trial_011  2 non-null      float64\n",
      " 4   trial_023  2 non-null      float64\n",
      " 5   trial_048  1 non-null      float64\n",
      " 6   trial_066  23 non-null     float64\n",
      " 7   trial_081  6 non-null      float64\n",
      " 8   trial_094  10 non-null     float64\n",
      "dtypes: float64(7), object(2)\n",
      "memory usage: 2.5+ KB\n"
     ]
    }
   ],
   "source": [
    "# Reformat columns\n",
    "rdf.columns = rdf.columns.str.lower()\n",
    "rdf.columns = rdf.columns.str.replace(' ', '_')\n",
    "rdf.rename(columns={'attribute': 'code'}, inplace=True)\n",
    "rdf['entity'] = rdf['entity'].str.strip()\n",
    "rdf['entity'] = rdf['entity'].str.replace(' ', '_')\n",
    "rdf['entity'] = rdf['entity'].str.replace(',', '')\n",
    "rdf['entity'] = rdf['entity'].str.replace('structural_characteristics', 'structure_characteristics')\n",
    "\n",
    "rdf.info()\n"
   ]
  },
  {
   "cell_type": "code",
   "execution_count": 6,
   "metadata": {},
   "outputs": [
    {
     "name": "stdout",
     "output_type": "stream",
     "text": [
      "<class 'pandas.core.frame.DataFrame'>\n",
      "RangeIndex: 82 entries, 0 to 81\n",
      "Data columns (total 9 columns):\n",
      " #   Column     Non-Null Count  Dtype  \n",
      "---  ------     --------------  -----  \n",
      " 0   code       82 non-null     object \n",
      " 1   trial_009  82 non-null     float64\n",
      " 2   trial_011  82 non-null     float64\n",
      " 3   trial_023  82 non-null     float64\n",
      " 4   trial_048  82 non-null     float64\n",
      " 5   trial_066  82 non-null     float64\n",
      " 6   trial_081  82 non-null     float64\n",
      " 7   trial_094  82 non-null     float64\n",
      " 8   entity     82 non-null     object \n",
      "dtypes: float64(7), object(2)\n",
      "memory usage: 5.9+ KB\n",
      "<class 'pandas.core.frame.DataFrame'>\n",
      "RangeIndex: 82 entries, 0 to 81\n",
      "Data columns (total 9 columns):\n",
      " #   Column     Non-Null Count  Dtype  \n",
      "---  ------     --------------  -----  \n",
      " 0   code       82 non-null     object \n",
      " 1   trial_009  37 non-null     float64\n",
      " 2   trial_011  37 non-null     float64\n",
      " 3   trial_023  43 non-null     float64\n",
      " 4   trial_048  43 non-null     float64\n",
      " 5   trial_066  36 non-null     float64\n",
      " 6   trial_081  45 non-null     float64\n",
      " 7   trial_094  45 non-null     float64\n",
      " 8   entity     82 non-null     object \n",
      "dtypes: float64(7), object(2)\n",
      "memory usage: 5.9+ KB\n"
     ]
    }
   ],
   "source": [
    "# Drop all columns in tdf that are not in rdf\n",
    "common_columns = tdf.columns.intersection(rdf.columns)\n",
    "tdf = tdf[common_columns]\n",
    "\n",
    "# Replace 0 with NaN\n",
    "tdf_merge = tdf.replace(0, np.nan)\n",
    "\n",
    "tdf.info()\n",
    "tdf_merge.info()"
   ]
  },
  {
   "cell_type": "code",
   "execution_count": 7,
   "metadata": {},
   "outputs": [
    {
     "name": "stdout",
     "output_type": "stream",
     "text": [
      "<class 'pandas.core.frame.DataFrame'>\n",
      "Index: 93 entries, bed dimensions to within-row spacing\n",
      "Data columns (total 8 columns):\n",
      " #   Column     Non-Null Count  Dtype  \n",
      "---  ------     --------------  -----  \n",
      " 0   entity     93 non-null     object \n",
      " 1   trial_009  40 non-null     float64\n",
      " 2   trial_011  39 non-null     float64\n",
      " 3   trial_023  45 non-null     float64\n",
      " 4   trial_048  44 non-null     float64\n",
      " 5   trial_066  58 non-null     float64\n",
      " 6   trial_081  50 non-null     float64\n",
      " 7   trial_094  53 non-null     float64\n",
      "dtypes: float64(7), object(1)\n",
      "memory usage: 6.5+ KB\n"
     ]
    }
   ],
   "source": [
    "# Set index to code\n",
    "tdf.set_index('code', inplace=True)\n",
    "tdf_merge.set_index('code', inplace=True)\n",
    "rdf.set_index('code', inplace=True)\n",
    "\n",
    "# Merge dataframes, with values of 1 overriding values of 0\n",
    "df = rdf.combine_first(tdf_merge)\n",
    "df.info()"
   ]
  },
  {
   "cell_type": "code",
   "execution_count": 10,
   "metadata": {},
   "outputs": [
    {
     "name": "stdout",
     "output_type": "stream",
     "text": [
      "<class 'pandas.core.frame.DataFrame'>\n",
      "Index: 93 entries, bed dimensions to within-row spacing\n",
      "Data columns (total 8 columns):\n",
      " #   Column     Non-Null Count  Dtype  \n",
      "---  ------     --------------  -----  \n",
      " 0   entity     93 non-null     object \n",
      " 1   trial_009  93 non-null     float64\n",
      " 2   trial_011  93 non-null     float64\n",
      " 3   trial_023  93 non-null     float64\n",
      " 4   trial_048  93 non-null     float64\n",
      " 5   trial_066  93 non-null     float64\n",
      " 6   trial_081  93 non-null     float64\n",
      " 7   trial_094  93 non-null     float64\n",
      "dtypes: float64(7), object(1)\n",
      "memory usage: 6.5+ KB\n",
      "<class 'pandas.core.frame.DataFrame'>\n",
      "Index: 82 entries, bed dimensions to harvested yield\n",
      "Data columns (total 8 columns):\n",
      " #   Column     Non-Null Count  Dtype  \n",
      "---  ------     --------------  -----  \n",
      " 0   trial_009  82 non-null     float64\n",
      " 1   trial_011  82 non-null     float64\n",
      " 2   trial_023  82 non-null     float64\n",
      " 3   trial_048  82 non-null     float64\n",
      " 4   trial_066  82 non-null     float64\n",
      " 5   trial_081  82 non-null     float64\n",
      " 6   trial_094  82 non-null     float64\n",
      " 7   entity     82 non-null     object \n",
      "dtypes: float64(7), object(1)\n",
      "memory usage: 5.8+ KB\n",
      "<class 'pandas.core.frame.DataFrame'>\n",
      "Index: 32 entries, cultivar growth pattern to transplanting date\n",
      "Data columns (total 8 columns):\n",
      " #   Column     Non-Null Count  Dtype  \n",
      "---  ------     --------------  -----  \n",
      " 0   entity     32 non-null     object \n",
      " 1   trial_009  32 non-null     float64\n",
      " 2   trial_011  32 non-null     float64\n",
      " 3   trial_023  32 non-null     float64\n",
      " 4   trial_048  32 non-null     float64\n",
      " 5   trial_066  32 non-null     float64\n",
      " 6   trial_081  32 non-null     float64\n",
      " 7   trial_094  32 non-null     float64\n",
      "dtypes: float64(7), object(1)\n",
      "memory usage: 3.3+ KB\n"
     ]
    }
   ],
   "source": [
    "# Replace NaN with 0\n",
    "df = df.fillna(0)\n",
    "df.info()\n",
    "tdf = tdf.fillna(0)\n",
    "tdf.info()\n",
    "rdf = rdf.fillna(0)\n",
    "rdf.info()\n",
    "\n",
    "# Save data\n",
    "tdf.to_csv('raw_trials_codes_all_processed.csv', index=True)\n",
    "df.to_csv('raw_data_codes_all_processed.csv', index=True)\n",
    "rdf.to_csv('raw_data_only_codes_all_processed.csv', index=True)"
   ]
  },
  {
   "cell_type": "code",
   "execution_count": 11,
   "metadata": {},
   "outputs": [
    {
     "name": "stdout",
     "output_type": "stream",
     "text": [
      "<class 'pandas.core.frame.DataFrame'>\n",
      "Index: 32 entries, 0 to 93\n",
      "Data columns (total 4 columns):\n",
      " #   Column      Non-Null Count  Dtype \n",
      "---  ------      --------------  ----- \n",
      " 0   Trial ID    32 non-null     object\n",
      " 1   Sample      32 non-null     object\n",
      " 2   Species     32 non-null     object\n",
      " 3   Trial Type  32 non-null     object\n",
      "dtypes: object(4)\n",
      "memory usage: 1.2+ KB\n"
     ]
    }
   ],
   "source": [
    "# Load trial directory\n",
    "trdf = pd.read_csv('trials.csv', usecols=['Trial ID', 'Sample', 'Species', 'Trial Type'], dtype=str)\n",
    "# Drop rows with missing values for the Sample column (unsampled trials)\n",
    "trdf.dropna(subset=['Sample'], inplace=True)\n",
    "trdf.info()"
   ]
  },
  {
   "cell_type": "code",
   "execution_count": 12,
   "metadata": {},
   "outputs": [],
   "source": [
    "# Define function to create summary dataframes\n",
    "def summarize(dfi, trdf):\n",
    "    # Create a dataframe with the codes and the fraction of trials in which they appear\n",
    "    df1 = dfi.drop(columns=['entity']).copy()\n",
    "    sum_df = df1.sum(axis=1)\n",
    "    sum_df = sum_df/df1.shape[1]\n",
    "    sum_df = sum_df.to_frame()\n",
    "    sum_df.columns = ['All_Trials']\n",
    "    # Set decimal precision to 2\n",
    "    sum_df = sum_df.round(2)\n",
    "    # For the subset of trials with each species, add a column that indicates the fraction of trials in which each code appears\n",
    "    species = ['Pepper', 'Tomato', 'Watermelon']\n",
    "    for s in species:\n",
    "        # Get the subset of trials that include the species substring in the Species column\n",
    "        subset = trdf.loc[trdf['Species'].str.contains(s)]['Trial ID'].to_list()\n",
    "        # Subset the data df to include columns from the subset of trials\n",
    "        df_subset = df1[[col for col in df1.columns if col.split('_')[1] in subset]]\n",
    "        # Calculate the fraction of trials in which each code appears\n",
    "        sum_df[s] = df_subset.sum(axis=1)/df_subset.shape[1]\n",
    "        # Set decimal precision to 2\n",
    "        sum_df[s] = sum_df[s].round(2)\n",
    "\n",
    "    # For the subset of trials with each trial type, add a column that indicates the fraction of trials in which each code appears\n",
    "    trial_types = ['Management', 'Variety']\n",
    "    for t in trial_types:\n",
    "        # Get the subset of trials that include the trial type substring in the Trial Type column\n",
    "        subset = trdf.loc[trdf['Trial Type'].str.contains(t)]['Trial ID'].to_list()\n",
    "        # Subset the data df to include columns from the subset of trials\n",
    "        df_subset = df1[[col for col in df1.columns if col.split('_')[1] in subset]]\n",
    "        # Calculate the fraction of trials in which each code appears\n",
    "        sum_df[t] = df_subset.sum(axis=1)/df_subset.shape[1]\n",
    "        # Set decimal precision to 2\n",
    "        sum_df[t] = sum_df[t].round(2)\n",
    "    # add entity to sum_df using code and attribute from sum_df and ddf\n",
    "    sum_df['entity'] = sum_df.index.map(dfi['entity'])\n",
    "    return sum_df"
   ]
  },
  {
   "cell_type": "code",
   "execution_count": 13,
   "metadata": {},
   "outputs": [
    {
     "name": "stdout",
     "output_type": "stream",
     "text": [
      "<class 'pandas.core.frame.DataFrame'>\n",
      "Index: 93 entries, bed dimensions to within-row spacing\n",
      "Data columns (total 7 columns):\n",
      " #   Column      Non-Null Count  Dtype  \n",
      "---  ------      --------------  -----  \n",
      " 0   All_Trials  93 non-null     float64\n",
      " 1   Pepper      93 non-null     float64\n",
      " 2   Tomato      93 non-null     float64\n",
      " 3   Watermelon  93 non-null     float64\n",
      " 4   Management  93 non-null     float64\n",
      " 5   Variety     93 non-null     float64\n",
      " 6   entity      93 non-null     object \n",
      "dtypes: float64(6), object(1)\n",
      "memory usage: 7.9+ KB\n",
      "<class 'pandas.core.frame.DataFrame'>\n",
      "Index: 82 entries, bed dimensions to harvested yield\n",
      "Data columns (total 7 columns):\n",
      " #   Column      Non-Null Count  Dtype  \n",
      "---  ------      --------------  -----  \n",
      " 0   All_Trials  82 non-null     float64\n",
      " 1   Pepper      82 non-null     float64\n",
      " 2   Tomato      82 non-null     float64\n",
      " 3   Watermelon  82 non-null     float64\n",
      " 4   Management  82 non-null     float64\n",
      " 5   Variety     82 non-null     float64\n",
      " 6   entity      82 non-null     object \n",
      "dtypes: float64(6), object(1)\n",
      "memory usage: 7.2+ KB\n",
      "<class 'pandas.core.frame.DataFrame'>\n",
      "Index: 32 entries, cultivar growth pattern to transplanting date\n",
      "Data columns (total 7 columns):\n",
      " #   Column      Non-Null Count  Dtype  \n",
      "---  ------      --------------  -----  \n",
      " 0   All_Trials  32 non-null     float64\n",
      " 1   Pepper      32 non-null     float64\n",
      " 2   Tomato      32 non-null     float64\n",
      " 3   Watermelon  32 non-null     float64\n",
      " 4   Management  32 non-null     float64\n",
      " 5   Variety     32 non-null     float64\n",
      " 6   entity      32 non-null     object \n",
      "dtypes: float64(6), object(1)\n",
      "memory usage: 3.0+ KB\n"
     ]
    }
   ],
   "source": [
    "df_sum = summarize(df, trdf)\n",
    "df_sum.info()\n",
    "tdf_sum = summarize(tdf, trdf)\n",
    "tdf_sum.info()\n",
    "rdf_sum = summarize(rdf, trdf)\n",
    "rdf_sum.info()"
   ]
  },
  {
   "cell_type": "code",
   "execution_count": 14,
   "metadata": {},
   "outputs": [],
   "source": [
    "# Save to csv\n",
    "df_sum.to_csv('raw_data_codes_summary_processed.csv', index=True)\n",
    "tdf_sum.to_csv('raw_trials_codes_summary_processed.csv', index=True)\n",
    "rdf_sum.to_csv('raw_data_only_codes_summary_processed.csv', index=True)"
   ]
  }
 ],
 "metadata": {
  "kernelspec": {
   "display_name": "pcp_env",
   "language": "python",
   "name": "python3"
  },
  "language_info": {
   "codemirror_mode": {
    "name": "ipython",
    "version": 3
   },
   "file_extension": ".py",
   "mimetype": "text/x-python",
   "name": "python",
   "nbconvert_exporter": "python",
   "pygments_lexer": "ipython3",
   "version": "3.9.18"
  }
 },
 "nbformat": 4,
 "nbformat_minor": 2
}
